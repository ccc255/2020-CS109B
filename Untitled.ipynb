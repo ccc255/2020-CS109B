{
 "cells": [
  {
   "cell_type": "code",
   "execution_count": 1,
   "metadata": {},
   "outputs": [],
   "source": [
    "import pandas as pd\n",
    "import numpy as np"
   ]
  },
  {
   "cell_type": "code",
   "execution_count": 2,
   "metadata": {},
   "outputs": [],
   "source": [
    "data_for_confusion2 = pd.read_csv(\"/Users/cousins/data_for_confusion2.csv\")"
   ]
  },
  {
   "cell_type": "code",
   "execution_count": 3,
   "metadata": {},
   "outputs": [
    {
     "data": {
      "text/html": [
       "<div>\n",
       "<style scoped>\n",
       "    .dataframe tbody tr th:only-of-type {\n",
       "        vertical-align: middle;\n",
       "    }\n",
       "\n",
       "    .dataframe tbody tr th {\n",
       "        vertical-align: top;\n",
       "    }\n",
       "\n",
       "    .dataframe thead th {\n",
       "        text-align: right;\n",
       "    }\n",
       "</style>\n",
       "<table border=\"1\" class=\"dataframe\">\n",
       "  <thead>\n",
       "    <tr style=\"text-align: right;\">\n",
       "      <th></th>\n",
       "      <th>t_test_signif_diff</th>\n",
       "      <th>anogva_above_0.54</th>\n",
       "      <th>adj_from_glasso_anogva</th>\n",
       "    </tr>\n",
       "  </thead>\n",
       "  <tbody>\n",
       "    <tr>\n",
       "      <th>0</th>\n",
       "      <td>0</td>\n",
       "      <td>0</td>\n",
       "      <td>0.203617</td>\n",
       "    </tr>\n",
       "    <tr>\n",
       "      <th>1</th>\n",
       "      <td>0</td>\n",
       "      <td>0</td>\n",
       "      <td>0.019449</td>\n",
       "    </tr>\n",
       "    <tr>\n",
       "      <th>2</th>\n",
       "      <td>0</td>\n",
       "      <td>0</td>\n",
       "      <td>0.013699</td>\n",
       "    </tr>\n",
       "    <tr>\n",
       "      <th>3</th>\n",
       "      <td>0</td>\n",
       "      <td>0</td>\n",
       "      <td>0.014330</td>\n",
       "    </tr>\n",
       "    <tr>\n",
       "      <th>4</th>\n",
       "      <td>1</td>\n",
       "      <td>0</td>\n",
       "      <td>0.012150</td>\n",
       "    </tr>\n",
       "  </tbody>\n",
       "</table>\n",
       "</div>"
      ],
      "text/plain": [
       "   t_test_signif_diff  anogva_above_0.54  adj_from_glasso_anogva\n",
       "0                   0                  0                0.203617\n",
       "1                   0                  0                0.019449\n",
       "2                   0                  0                0.013699\n",
       "3                   0                  0                0.014330\n",
       "4                   1                  0                0.012150"
      ]
     },
     "execution_count": 3,
     "metadata": {},
     "output_type": "execute_result"
    }
   ],
   "source": [
    "data_for_confusion2.head()"
   ]
  },
  {
   "cell_type": "code",
   "execution_count": 8,
   "metadata": {},
   "outputs": [
    {
     "data": {
      "text/plain": [
       "(0.0359, 0.84]        920\n",
       "(0.0163, 0.0359]      920\n",
       "(0.0107, 0.0163]      920\n",
       "(0.00714, 0.0107]     920\n",
       "(0.00017, 0.00714]    920\n",
       "Name: adj_from_glasso_anogva, dtype: int64"
      ]
     },
     "execution_count": 8,
     "metadata": {},
     "output_type": "execute_result"
    }
   ],
   "source": [
    "pd.qcut(data_for_confusion2['adj_from_glasso_anogva'],5).value_counts()"
   ]
  },
  {
   "cell_type": "code",
   "execution_count": 16,
   "metadata": {},
   "outputs": [
    {
     "data": {
      "text/plain": [
       "(0.000334, 0.169]    4208\n",
       "(0.337, 0.505]        167\n",
       "(0.505, 0.672]        125\n",
       "(0.672, 0.84]          74\n",
       "(0.169, 0.337]         26\n",
       "Name: adj_from_glasso_anogva, dtype: int64"
      ]
     },
     "execution_count": 16,
     "metadata": {},
     "output_type": "execute_result"
    }
   ],
   "source": [
    "pd.cut(data_for_confusion2['adj_from_glasso_anogva'],5).value_counts()"
   ]
  },
  {
   "cell_type": "code",
   "execution_count": 13,
   "metadata": {},
   "outputs": [],
   "source": [
    "data_for_confusion2['bin_label'] = pd.cut(data_for_confusion2['adj_from_glasso_anogva'],5)"
   ]
  },
  {
   "cell_type": "code",
   "execution_count": 14,
   "metadata": {},
   "outputs": [
    {
     "data": {
      "text/html": [
       "<div>\n",
       "<style scoped>\n",
       "    .dataframe tbody tr th:only-of-type {\n",
       "        vertical-align: middle;\n",
       "    }\n",
       "\n",
       "    .dataframe tbody tr th {\n",
       "        vertical-align: top;\n",
       "    }\n",
       "\n",
       "    .dataframe thead th {\n",
       "        text-align: right;\n",
       "    }\n",
       "</style>\n",
       "<table border=\"1\" class=\"dataframe\">\n",
       "  <thead>\n",
       "    <tr style=\"text-align: right;\">\n",
       "      <th></th>\n",
       "      <th>t_test_signif_diff</th>\n",
       "      <th>anogva_above_0.54</th>\n",
       "      <th>adj_from_glasso_anogva</th>\n",
       "      <th>bin_label</th>\n",
       "    </tr>\n",
       "  </thead>\n",
       "  <tbody>\n",
       "    <tr>\n",
       "      <th>0</th>\n",
       "      <td>0</td>\n",
       "      <td>0</td>\n",
       "      <td>0.203617</td>\n",
       "      <td>(0.169, 0.337]</td>\n",
       "    </tr>\n",
       "    <tr>\n",
       "      <th>1</th>\n",
       "      <td>0</td>\n",
       "      <td>0</td>\n",
       "      <td>0.019449</td>\n",
       "      <td>(0.000334, 0.169]</td>\n",
       "    </tr>\n",
       "    <tr>\n",
       "      <th>2</th>\n",
       "      <td>0</td>\n",
       "      <td>0</td>\n",
       "      <td>0.013699</td>\n",
       "      <td>(0.000334, 0.169]</td>\n",
       "    </tr>\n",
       "    <tr>\n",
       "      <th>3</th>\n",
       "      <td>0</td>\n",
       "      <td>0</td>\n",
       "      <td>0.014330</td>\n",
       "      <td>(0.000334, 0.169]</td>\n",
       "    </tr>\n",
       "    <tr>\n",
       "      <th>4</th>\n",
       "      <td>1</td>\n",
       "      <td>0</td>\n",
       "      <td>0.012150</td>\n",
       "      <td>(0.000334, 0.169]</td>\n",
       "    </tr>\n",
       "  </tbody>\n",
       "</table>\n",
       "</div>"
      ],
      "text/plain": [
       "   t_test_signif_diff  anogva_above_0.54  adj_from_glasso_anogva  \\\n",
       "0                   0                  0                0.203617   \n",
       "1                   0                  0                0.019449   \n",
       "2                   0                  0                0.013699   \n",
       "3                   0                  0                0.014330   \n",
       "4                   1                  0                0.012150   \n",
       "\n",
       "           bin_label  \n",
       "0     (0.169, 0.337]  \n",
       "1  (0.000334, 0.169]  \n",
       "2  (0.000334, 0.169]  \n",
       "3  (0.000334, 0.169]  \n",
       "4  (0.000334, 0.169]  "
      ]
     },
     "execution_count": 14,
     "metadata": {},
     "output_type": "execute_result"
    }
   ],
   "source": [
    "data_for_confusion2.head()"
   ]
  },
  {
   "cell_type": "code",
   "execution_count": 15,
   "metadata": {},
   "outputs": [
    {
     "data": {
      "text/html": [
       "<div>\n",
       "<style scoped>\n",
       "    .dataframe tbody tr th:only-of-type {\n",
       "        vertical-align: middle;\n",
       "    }\n",
       "\n",
       "    .dataframe tbody tr th {\n",
       "        vertical-align: top;\n",
       "    }\n",
       "\n",
       "    .dataframe thead th {\n",
       "        text-align: right;\n",
       "    }\n",
       "</style>\n",
       "<table border=\"1\" class=\"dataframe\">\n",
       "  <thead>\n",
       "    <tr style=\"text-align: right;\">\n",
       "      <th></th>\n",
       "      <th>t_test_signif_diff</th>\n",
       "      <th>anogva_above_0.54</th>\n",
       "      <th>adj_from_glasso_anogva</th>\n",
       "    </tr>\n",
       "    <tr>\n",
       "      <th>bin_label</th>\n",
       "      <th></th>\n",
       "      <th></th>\n",
       "      <th></th>\n",
       "    </tr>\n",
       "  </thead>\n",
       "  <tbody>\n",
       "    <tr>\n",
       "      <th>(0.000334, 0.169]</th>\n",
       "      <td>856</td>\n",
       "      <td>0</td>\n",
       "      <td>81.601695</td>\n",
       "    </tr>\n",
       "    <tr>\n",
       "      <th>(0.169, 0.337]</th>\n",
       "      <td>3</td>\n",
       "      <td>0</td>\n",
       "      <td>5.343452</td>\n",
       "    </tr>\n",
       "    <tr>\n",
       "      <th>(0.337, 0.505]</th>\n",
       "      <td>16</td>\n",
       "      <td>0</td>\n",
       "      <td>73.081289</td>\n",
       "    </tr>\n",
       "    <tr>\n",
       "      <th>(0.505, 0.672]</th>\n",
       "      <td>3</td>\n",
       "      <td>91</td>\n",
       "      <td>72.491184</td>\n",
       "    </tr>\n",
       "    <tr>\n",
       "      <th>(0.672, 0.84]</th>\n",
       "      <td>7</td>\n",
       "      <td>74</td>\n",
       "      <td>55.121378</td>\n",
       "    </tr>\n",
       "  </tbody>\n",
       "</table>\n",
       "</div>"
      ],
      "text/plain": [
       "                   t_test_signif_diff  anogva_above_0.54  \\\n",
       "bin_label                                                  \n",
       "(0.000334, 0.169]                 856                  0   \n",
       "(0.169, 0.337]                      3                  0   \n",
       "(0.337, 0.505]                     16                  0   \n",
       "(0.505, 0.672]                      3                 91   \n",
       "(0.672, 0.84]                       7                 74   \n",
       "\n",
       "                   adj_from_glasso_anogva  \n",
       "bin_label                                  \n",
       "(0.000334, 0.169]               81.601695  \n",
       "(0.169, 0.337]                   5.343452  \n",
       "(0.337, 0.505]                  73.081289  \n",
       "(0.505, 0.672]                  72.491184  \n",
       "(0.672, 0.84]                   55.121378  "
      ]
     },
     "execution_count": 15,
     "metadata": {},
     "output_type": "execute_result"
    }
   ],
   "source": [
    "data_for_confusion2.groupby(['bin_label']).sum()"
   ]
  },
  {
   "cell_type": "code",
   "execution_count": null,
   "metadata": {},
   "outputs": [],
   "source": []
  }
 ],
 "metadata": {
  "kernelspec": {
   "display_name": "Python 3",
   "language": "python",
   "name": "python3"
  },
  "language_info": {
   "codemirror_mode": {
    "name": "ipython",
    "version": 3
   },
   "file_extension": ".py",
   "mimetype": "text/x-python",
   "name": "python",
   "nbconvert_exporter": "python",
   "pygments_lexer": "ipython3",
   "version": "3.7.6"
  }
 },
 "nbformat": 4,
 "nbformat_minor": 4
}
