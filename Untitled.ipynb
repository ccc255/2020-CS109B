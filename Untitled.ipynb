{
 "cells": [
  {
   "cell_type": "code",
   "execution_count": 20,
   "metadata": {},
   "outputs": [],
   "source": [
    "import pandas as pd\n",
    "import numpy as np\n",
    "from statsmodels.stats.proportion import proportions_ztest"
   ]
  },
  {
   "cell_type": "code",
   "execution_count": 5,
   "metadata": {},
   "outputs": [],
   "source": [
    "data_for_confusion2 = pd.read_csv(\"/Users/cousins/data_for_confusion2.csv\")"
   ]
  },
  {
   "cell_type": "code",
   "execution_count": 6,
   "metadata": {},
   "outputs": [
    {
     "data": {
      "text/html": [
       "<div>\n",
       "<style scoped>\n",
       "    .dataframe tbody tr th:only-of-type {\n",
       "        vertical-align: middle;\n",
       "    }\n",
       "\n",
       "    .dataframe tbody tr th {\n",
       "        vertical-align: top;\n",
       "    }\n",
       "\n",
       "    .dataframe thead th {\n",
       "        text-align: right;\n",
       "    }\n",
       "</style>\n",
       "<table border=\"1\" class=\"dataframe\">\n",
       "  <thead>\n",
       "    <tr style=\"text-align: right;\">\n",
       "      <th></th>\n",
       "      <th>t_test_signif_diff</th>\n",
       "      <th>anogva_above_0.54</th>\n",
       "      <th>adj_from_glasso_anogva</th>\n",
       "      <th>auc_diff</th>\n",
       "      <th>anogva_below_0.33</th>\n",
       "    </tr>\n",
       "  </thead>\n",
       "  <tbody>\n",
       "    <tr>\n",
       "      <th>0</th>\n",
       "      <td>0</td>\n",
       "      <td>0</td>\n",
       "      <td>0.203617</td>\n",
       "      <td>0.085024</td>\n",
       "      <td>1</td>\n",
       "    </tr>\n",
       "    <tr>\n",
       "      <th>1</th>\n",
       "      <td>0</td>\n",
       "      <td>0</td>\n",
       "      <td>0.019449</td>\n",
       "      <td>0.029102</td>\n",
       "      <td>1</td>\n",
       "    </tr>\n",
       "    <tr>\n",
       "      <th>2</th>\n",
       "      <td>0</td>\n",
       "      <td>0</td>\n",
       "      <td>0.013699</td>\n",
       "      <td>0.048955</td>\n",
       "      <td>1</td>\n",
       "    </tr>\n",
       "    <tr>\n",
       "      <th>3</th>\n",
       "      <td>0</td>\n",
       "      <td>0</td>\n",
       "      <td>0.014330</td>\n",
       "      <td>0.089887</td>\n",
       "      <td>1</td>\n",
       "    </tr>\n",
       "    <tr>\n",
       "      <th>4</th>\n",
       "      <td>1</td>\n",
       "      <td>0</td>\n",
       "      <td>0.012150</td>\n",
       "      <td>0.031672</td>\n",
       "      <td>0</td>\n",
       "    </tr>\n",
       "  </tbody>\n",
       "</table>\n",
       "</div>"
      ],
      "text/plain": [
       "   t_test_signif_diff  anogva_above_0.54  adj_from_glasso_anogva  auc_diff  \\\n",
       "0                   0                  0                0.203617  0.085024   \n",
       "1                   0                  0                0.019449  0.029102   \n",
       "2                   0                  0                0.013699  0.048955   \n",
       "3                   0                  0                0.014330  0.089887   \n",
       "4                   1                  0                0.012150  0.031672   \n",
       "\n",
       "   anogva_below_0.33  \n",
       "0                  1  \n",
       "1                  1  \n",
       "2                  1  \n",
       "3                  1  \n",
       "4                  0  "
      ]
     },
     "execution_count": 6,
     "metadata": {},
     "output_type": "execute_result"
    }
   ],
   "source": [
    "data_for_confusion2.head()"
   ]
  },
  {
   "cell_type": "code",
   "execution_count": 8,
   "metadata": {},
   "outputs": [
    {
     "data": {
      "text/plain": [
       "(0.0359, 0.84]        920\n",
       "(0.0163, 0.0359]      920\n",
       "(0.0107, 0.0163]      920\n",
       "(0.00714, 0.0107]     920\n",
       "(0.00017, 0.00714]    920\n",
       "Name: adj_from_glasso_anogva, dtype: int64"
      ]
     },
     "execution_count": 8,
     "metadata": {},
     "output_type": "execute_result"
    }
   ],
   "source": [
    "pd.qcut(data_for_confusion2['adj_from_glasso_anogva'],5).value_counts()"
   ]
  },
  {
   "cell_type": "code",
   "execution_count": 16,
   "metadata": {},
   "outputs": [
    {
     "data": {
      "text/plain": [
       "(0.000334, 0.169]    4208\n",
       "(0.337, 0.505]        167\n",
       "(0.505, 0.672]        125\n",
       "(0.672, 0.84]          74\n",
       "(0.169, 0.337]         26\n",
       "Name: adj_from_glasso_anogva, dtype: int64"
      ]
     },
     "execution_count": 16,
     "metadata": {},
     "output_type": "execute_result"
    }
   ],
   "source": [
    "pd.cut(data_for_confusion2['adj_from_glasso_anogva'],5).value_counts()"
   ]
  },
  {
   "cell_type": "code",
   "execution_count": 22,
   "metadata": {},
   "outputs": [],
   "source": [
    "data_for_confusion2['bin_label'] = pd.cut(data_for_confusion2['adj_from_glasso_anogva'],[0,0.40,1])"
   ]
  },
  {
   "cell_type": "code",
   "execution_count": 23,
   "metadata": {},
   "outputs": [
    {
     "data": {
      "text/html": [
       "<div>\n",
       "<style scoped>\n",
       "    .dataframe tbody tr th:only-of-type {\n",
       "        vertical-align: middle;\n",
       "    }\n",
       "\n",
       "    .dataframe tbody tr th {\n",
       "        vertical-align: top;\n",
       "    }\n",
       "\n",
       "    .dataframe thead th {\n",
       "        text-align: right;\n",
       "    }\n",
       "</style>\n",
       "<table border=\"1\" class=\"dataframe\">\n",
       "  <thead>\n",
       "    <tr style=\"text-align: right;\">\n",
       "      <th></th>\n",
       "      <th>t_test_signif_diff</th>\n",
       "      <th>anogva_above_0.54</th>\n",
       "      <th>adj_from_glasso_anogva</th>\n",
       "      <th>auc_diff</th>\n",
       "      <th>anogva_below_0.33</th>\n",
       "      <th>bin_label</th>\n",
       "    </tr>\n",
       "  </thead>\n",
       "  <tbody>\n",
       "    <tr>\n",
       "      <th>0</th>\n",
       "      <td>0</td>\n",
       "      <td>0</td>\n",
       "      <td>0.203617</td>\n",
       "      <td>0.085024</td>\n",
       "      <td>1</td>\n",
       "      <td>(0.0, 0.4]</td>\n",
       "    </tr>\n",
       "    <tr>\n",
       "      <th>1</th>\n",
       "      <td>0</td>\n",
       "      <td>0</td>\n",
       "      <td>0.019449</td>\n",
       "      <td>0.029102</td>\n",
       "      <td>1</td>\n",
       "      <td>(0.0, 0.4]</td>\n",
       "    </tr>\n",
       "    <tr>\n",
       "      <th>2</th>\n",
       "      <td>0</td>\n",
       "      <td>0</td>\n",
       "      <td>0.013699</td>\n",
       "      <td>0.048955</td>\n",
       "      <td>1</td>\n",
       "      <td>(0.0, 0.4]</td>\n",
       "    </tr>\n",
       "    <tr>\n",
       "      <th>3</th>\n",
       "      <td>0</td>\n",
       "      <td>0</td>\n",
       "      <td>0.014330</td>\n",
       "      <td>0.089887</td>\n",
       "      <td>1</td>\n",
       "      <td>(0.0, 0.4]</td>\n",
       "    </tr>\n",
       "    <tr>\n",
       "      <th>4</th>\n",
       "      <td>1</td>\n",
       "      <td>0</td>\n",
       "      <td>0.012150</td>\n",
       "      <td>0.031672</td>\n",
       "      <td>0</td>\n",
       "      <td>(0.0, 0.4]</td>\n",
       "    </tr>\n",
       "  </tbody>\n",
       "</table>\n",
       "</div>"
      ],
      "text/plain": [
       "   t_test_signif_diff  anogva_above_0.54  adj_from_glasso_anogva  auc_diff  \\\n",
       "0                   0                  0                0.203617  0.085024   \n",
       "1                   0                  0                0.019449  0.029102   \n",
       "2                   0                  0                0.013699  0.048955   \n",
       "3                   0                  0                0.014330  0.089887   \n",
       "4                   1                  0                0.012150  0.031672   \n",
       "\n",
       "   anogva_below_0.33   bin_label  \n",
       "0                  1  (0.0, 0.4]  \n",
       "1                  1  (0.0, 0.4]  \n",
       "2                  1  (0.0, 0.4]  \n",
       "3                  1  (0.0, 0.4]  \n",
       "4                  0  (0.0, 0.4]  "
      ]
     },
     "execution_count": 23,
     "metadata": {},
     "output_type": "execute_result"
    }
   ],
   "source": [
    "data_for_confusion2.head()"
   ]
  },
  {
   "cell_type": "code",
   "execution_count": 24,
   "metadata": {},
   "outputs": [
    {
     "data": {
      "text/html": [
       "<div>\n",
       "<style scoped>\n",
       "    .dataframe tbody tr th:only-of-type {\n",
       "        vertical-align: middle;\n",
       "    }\n",
       "\n",
       "    .dataframe tbody tr th {\n",
       "        vertical-align: top;\n",
       "    }\n",
       "\n",
       "    .dataframe thead th {\n",
       "        text-align: right;\n",
       "    }\n",
       "</style>\n",
       "<table border=\"1\" class=\"dataframe\">\n",
       "  <thead>\n",
       "    <tr style=\"text-align: right;\">\n",
       "      <th></th>\n",
       "      <th>t_test_signif_diff</th>\n",
       "      <th>anogva_above_0.54</th>\n",
       "      <th>adj_from_glasso_anogva</th>\n",
       "      <th>auc_diff</th>\n",
       "      <th>anogva_below_0.33</th>\n",
       "    </tr>\n",
       "    <tr>\n",
       "      <th>bin_label</th>\n",
       "      <th></th>\n",
       "      <th></th>\n",
       "      <th></th>\n",
       "      <th></th>\n",
       "      <th></th>\n",
       "    </tr>\n",
       "  </thead>\n",
       "  <tbody>\n",
       "    <tr>\n",
       "      <th>(0.0, 0.4]</th>\n",
       "      <td>860</td>\n",
       "      <td>0</td>\n",
       "      <td>93.521507</td>\n",
       "      <td>206.884858</td>\n",
       "      <td>3391</td>\n",
       "    </tr>\n",
       "    <tr>\n",
       "      <th>(0.4, 1.0]</th>\n",
       "      <td>25</td>\n",
       "      <td>165</td>\n",
       "      <td>194.117491</td>\n",
       "      <td>13.004685</td>\n",
       "      <td>324</td>\n",
       "    </tr>\n",
       "  </tbody>\n",
       "</table>\n",
       "</div>"
      ],
      "text/plain": [
       "            t_test_signif_diff  anogva_above_0.54  adj_from_glasso_anogva  \\\n",
       "bin_label                                                                   \n",
       "(0.0, 0.4]                 860                  0               93.521507   \n",
       "(0.4, 1.0]                  25                165              194.117491   \n",
       "\n",
       "              auc_diff  anogva_below_0.33  \n",
       "bin_label                                  \n",
       "(0.0, 0.4]  206.884858               3391  \n",
       "(0.4, 1.0]   13.004685                324  "
      ]
     },
     "execution_count": 24,
     "metadata": {},
     "output_type": "execute_result"
    }
   ],
   "source": [
    "data_for_confusion2.groupby(['bin_label']).sum()"
   ]
  },
  {
   "cell_type": "code",
   "execution_count": 21,
   "metadata": {},
   "outputs": [
    {
     "data": {
      "text/plain": [
       "(5.677032054587827, 1.370517984566337e-08)"
      ]
     },
     "execution_count": 21,
     "metadata": {},
     "output_type": "execute_result"
    }
   ],
   "source": [
    "statsmodels.stats.proportion.proportions_ztest(np.array([859,26]), np.array([4234, 340]), 0)"
   ]
  },
  {
   "cell_type": "code",
   "execution_count": 25,
   "metadata": {},
   "outputs": [
    {
     "data": {
      "text/plain": [
       "(5.953454173059611, 2.6254139484772365e-09)"
      ]
     },
     "execution_count": 25,
     "metadata": {},
     "output_type": "execute_result"
    }
   ],
   "source": [
    "statsmodels.stats.proportion.proportions_ztest(np.array([860,25]), np.array([4251, 349]), 0)"
   ]
  },
  {
   "cell_type": "code",
   "execution_count": null,
   "metadata": {},
   "outputs": [],
   "source": []
  }
 ],
 "metadata": {
  "kernelspec": {
   "display_name": "Python 3",
   "language": "python",
   "name": "python3"
  },
  "language_info": {
   "codemirror_mode": {
    "name": "ipython",
    "version": 3
   },
   "file_extension": ".py",
   "mimetype": "text/x-python",
   "name": "python",
   "nbconvert_exporter": "python",
   "pygments_lexer": "ipython3",
   "version": "3.7.3"
  }
 },
 "nbformat": 4,
 "nbformat_minor": 4
}
