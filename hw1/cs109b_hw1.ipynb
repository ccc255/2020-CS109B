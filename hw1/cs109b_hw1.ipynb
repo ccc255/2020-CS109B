{
 "cells": [
  {
   "cell_type": "markdown",
   "metadata": {},
   "source": [
    "# <img style=\"float: left; padding-right: 10px; width: 45px\" src=\"https://raw.githubusercontent.com/Harvard-IACS/2018-CS109A/master/content/styles/iacs.png\"> CS109B Data Science 2: Advanced Topics in Data Science \n",
    "## Homework 1 - Smoothers and Generalized Additive Models\n",
    "\n",
    "\n",
    "\n",
    "**Harvard University**<br/>\n",
    "**Spring 2020**<br/>\n",
    "**Instructors**: Mark Glickman, Pavlos Protopapas, & Chris Tanner\n",
    "\n",
    "\n",
    "<hr style=\"height:2pt\">"
   ]
  },
  {
   "cell_type": "markdown",
   "metadata": {},
   "source": [
    "### Homework 1 is due February 6th"
   ]
  },
  {
   "cell_type": "code",
   "execution_count": 1,
   "metadata": {},
   "outputs": [
    {
     "data": {
      "text/html": [
       "<style>\n",
       "blockquote { background: #AEDE94; }\n",
       "h1 { \n",
       "    padding-top: 25px;\n",
       "    padding-bottom: 25px;\n",
       "    text-align: left; \n",
       "    padding-left: 10px;\n",
       "    background-color: #DDDDDD; \n",
       "    color: black;\n",
       "}\n",
       "h2 { \n",
       "    padding-top: 10px;\n",
       "    padding-bottom: 10px;\n",
       "    text-align: left; \n",
       "    padding-left: 5px;\n",
       "    background-color: #EEEEEE; \n",
       "    color: black;\n",
       "}\n",
       "\n",
       "div.exercise {\n",
       "\tbackground-color: #ffcccc;\n",
       "\tborder-color: #E9967A; \t\n",
       "\tborder-left: 5px solid #800080; \n",
       "\tpadding: 0.5em;\n",
       "}\n",
       "\n",
       "span.sub-q {\n",
       "\tfont-weight: bold;\n",
       "}\n",
       "div.theme {\n",
       "\tbackground-color: #DDDDDD;\n",
       "\tborder-color: #E9967A; \t\n",
       "\tborder-left: 5px solid #800080; \n",
       "\tpadding: 0.5em;\n",
       "\tfont-size: 18pt;\n",
       "}\n",
       "div.gc { \n",
       "\tbackground-color: #AEDE94;\n",
       "\tborder-color: #E9967A; \t \n",
       "\tborder-left: 5px solid #800080; \n",
       "\tpadding: 0.5em;\n",
       "\tfont-size: 12pt;\n",
       "}\n",
       "p.q1 { \n",
       "    padding-top: 5px;\n",
       "    padding-bottom: 5px;\n",
       "    text-align: left; \n",
       "    padding-left: 5px;\n",
       "    background-color: #EEEEEE; \n",
       "    color: black;\n",
       "}\n",
       "header {\n",
       "   padding-top: 35px;\n",
       "    padding-bottom: 35px;\n",
       "    text-align: left; \n",
       "    padding-left: 10px;\n",
       "    background-color: #DDDDDD; \n",
       "    color: black;\n",
       "}\n",
       "</style>\n",
       "\n"
      ],
      "text/plain": [
       "<IPython.core.display.HTML object>"
      ]
     },
     "execution_count": 1,
     "metadata": {},
     "output_type": "execute_result"
    }
   ],
   "source": [
    "#PLEASE RUN THIS CELL \n",
    "import requests\n",
    "from IPython.core.display import HTML\n",
    "styles = requests.get(\"https://raw.githubusercontent.com/Harvard-IACS/2018-CS109A/master/content/styles/cs109.css\").text\n",
    "HTML(styles)"
   ]
  },
  {
   "cell_type": "markdown",
   "metadata": {},
   "source": [
    "### INSTRUCTIONS\n",
    "\n",
    "- To submit your assignment, please follow the instructions on Canvas.\n",
    "- Please restart the kernel and run the entire notebook again before you submit.\n",
    "\n",
    "<hr style=\"height:2pt\">"
   ]
  },
  {
   "cell_type": "markdown",
   "metadata": {},
   "source": [
    "### Please use the libraries below:"
   ]
  },
  {
   "cell_type": "code",
   "execution_count": 2,
   "metadata": {},
   "outputs": [],
   "source": [
    "import pandas as pd\n",
    "import numpy as np\n",
    "import datetime\n",
    "import matplotlib.pyplot as plt\n",
    "%matplotlib inline\n",
    "import statsmodels.formula.api as sm\n",
    "from sklearn.preprocessing import PolynomialFeatures\n",
    "from sklearn.metrics import r2_score\n",
    "from sklearn.model_selection import KFold\n",
    "from pygam import LinearGAM, s, f\n",
    "from sklearn.preprocessing import LabelEncoder\n",
    "\n",
    "# Seaborn visualization library\n",
    "import seaborn as sns"
   ]
  },
  {
   "cell_type": "markdown",
   "metadata": {},
   "source": [
    "\n",
    "<hr style=\"height:2pt\">"
   ]
  },
  {
   "cell_type": "markdown",
   "metadata": {},
   "source": [
    "### Problem 1 - Modeling Seasonality of Airbnb Prices\n",
    "In this problem, the task is to build a regression model to predict the price of an Airbnb rental for a given date. The data are provided in `calendar_train.csv` and `calendar_test.csv`, which contain availability and price data for a sample of Airbnb units in the Boston area from 2017 to 2018, about 4 observations per day in each set."
   ]
  },
  {
   "cell_type": "markdown",
   "metadata": {},
   "source": [
    "Start by loading the data using pandas.  \n",
    "*Hint*: You likely want to have pandas parse the `date` column as a datetime object via the `parse_dates` argument of `pd.read_csv`"
   ]
  },
  {
   "cell_type": "code",
   "execution_count": 3,
   "metadata": {},
   "outputs": [],
   "source": [
    "# load data and parse date column into datetime object\n",
    "\n",
    "calendar_train = pd.read_csv('data/calendar_train.csv', parse_dates = ['date'])\n",
    "calendar_test = pd.read_csv('data/calendar_test.csv', parse_dates = ['date'])\n"
   ]
  },
  {
   "cell_type": "code",
   "execution_count": 4,
   "metadata": {},
   "outputs": [
    {
     "name": "stdout",
     "output_type": "stream",
     "text": [
      "Head of calendar_train:\n",
      "    listing_id       date available  price\n",
      "0    20872145 2018-09-21         f    NaN\n",
      "1    20872145 2018-09-19         f    NaN\n",
      "2    20872145 2018-09-18         f    NaN\n",
      "3    20872145 2018-09-17         f    NaN\n",
      "4    20872145 2018-09-16         f    NaN \n",
      "\n",
      "\n",
      "Tail of calendar_train:\n",
      "         listing_id       date available  price\n",
      "733998     4759640 2017-12-21         f    NaN\n",
      "733999     4759640 2017-12-20         f    NaN\n",
      "734000     4759640 2017-12-19         f    NaN\n",
      "734001     4759640 2017-12-18         f    NaN\n",
      "734002     4759640 2017-12-15         f    NaN \n",
      "\n",
      "\n",
      "Describe summary of calendar_train:\n",
      "          listing_id          price\n",
      "count  7.340030e+05  309288.000000\n",
      "mean   1.253864e+07     238.780612\n",
      "std    6.334971e+06     188.527983\n",
      "min    3.781000e+03      15.000000\n",
      "25%    7.281884e+06     115.000000\n",
      "50%    1.390864e+07     190.000000\n",
      "75%    1.835457e+07     299.000000\n",
      "max    2.122836e+07    5993.000000 \n",
      "\n",
      "\n",
      "Check that prices exist when available for calendar_train:\n",
      " 123        62.0\n",
      "124        59.0\n",
      "125        75.0\n",
      "126        71.0\n",
      "127        51.0\n",
      "          ...  \n",
      "733756    149.0\n",
      "733757    149.0\n",
      "733758    149.0\n",
      "733759    149.0\n",
      "733766    101.0\n",
      "Name: price, Length: 309288, dtype: float64 \n",
      "\n",
      "\n"
     ]
    }
   ],
   "source": [
    "# check that calendar_train has price and date info when available\n",
    "print('Head of calendar_train:\\n', calendar_train.head(), '\\n\\n')\n",
    "print('Tail of calendar_train:\\n', calendar_train.tail(), '\\n\\n')\n",
    "print('Describe summary of calendar_train:\\n', calendar_train.describe(), '\\n\\n')\n",
    "print('Check that prices exist when available for calendar_train:\\n', calendar_train[calendar_train['available']=='t']['price'], '\\n\\n')\n"
   ]
  },
  {
   "cell_type": "code",
   "execution_count": 5,
   "metadata": {},
   "outputs": [
    {
     "name": "stdout",
     "output_type": "stream",
     "text": [
      "Head of calendar_test:\n",
      "    listing_id       date available  price\n",
      "0    21205442 2018-09-28         t  138.0\n",
      "1     5166870 2018-08-11         t  210.0\n",
      "2     9698823 2017-10-17         f    NaN\n",
      "3    18894466 2018-02-21         f    NaN\n",
      "4     6765855 2018-09-22         f    NaN \n",
      "\n",
      "\n",
      "Tail of calendar_test:\n",
      "         listing_id       date available  price\n",
      "314567     2843445 2018-05-11         t   85.0\n",
      "314568    17591837 2017-12-10         t  199.0\n",
      "314569    19177794 2018-06-17         f    NaN\n",
      "314570     5075267 2017-12-30         t  188.0\n",
      "314571    12023024 2017-10-30         t   40.0 \n",
      "\n",
      "\n",
      "Describe summary of calendar_test:\n",
      "          listing_id          price\n",
      "count  3.145720e+05  133100.000000\n",
      "mean   1.253792e+07     239.744733\n",
      "std    6.333996e+06     192.059271\n",
      "min    3.781000e+03      15.000000\n",
      "25%    7.281884e+06     115.000000\n",
      "50%    1.390803e+07     190.000000\n",
      "75%    1.835689e+07     300.000000\n",
      "max    2.122836e+07   10000.000000 \n",
      "\n",
      "\n",
      "Check that prices exist when available for calendar_test:\n",
      " 0         138.0\n",
      "1         210.0\n",
      "12        869.0\n",
      "14        239.0\n",
      "17        259.0\n",
      "          ...  \n",
      "314566    250.0\n",
      "314567     85.0\n",
      "314568    199.0\n",
      "314570    188.0\n",
      "314571     40.0\n",
      "Name: price, Length: 133100, dtype: float64 \n",
      "\n",
      "\n"
     ]
    }
   ],
   "source": [
    "# check that calendar_test has price and date info when available\n",
    "print('Head of calendar_test:\\n', calendar_test.head(), '\\n\\n')\n",
    "print('Tail of calendar_test:\\n', calendar_test.tail(), '\\n\\n')\n",
    "print('Describe summary of calendar_test:\\n', calendar_test.describe(), '\\n\\n')\n",
    "print('Check that prices exist when available for calendar_test:\\n', calendar_test[calendar_test['available']=='t']['price'], '\\n\\n')\n"
   ]
  },
  {
   "cell_type": "markdown",
   "metadata": {},
   "source": [
    "### Exploratory Analysis\n",
    "\n",
    "Visualize the average price by month and day of the week (i.e., Monday, Tuesday, etc.) for the training set. Point out any trends you notice and explain whether or not they make sense."
   ]
  },
  {
   "cell_type": "code",
   "execution_count": 6,
   "metadata": {},
   "outputs": [
    {
     "data": {
      "text/html": [
       "<div>\n",
       "<style scoped>\n",
       "    .dataframe tbody tr th:only-of-type {\n",
       "        vertical-align: middle;\n",
       "    }\n",
       "\n",
       "    .dataframe tbody tr th {\n",
       "        vertical-align: top;\n",
       "    }\n",
       "\n",
       "    .dataframe thead th {\n",
       "        text-align: right;\n",
       "    }\n",
       "</style>\n",
       "<table border=\"1\" class=\"dataframe\">\n",
       "  <thead>\n",
       "    <tr style=\"text-align: right;\">\n",
       "      <th></th>\n",
       "      <th>listing_id</th>\n",
       "      <th>date</th>\n",
       "      <th>available</th>\n",
       "      <th>price</th>\n",
       "      <th>year</th>\n",
       "      <th>month</th>\n",
       "      <th>day of the month</th>\n",
       "      <th>day of the week</th>\n",
       "    </tr>\n",
       "  </thead>\n",
       "  <tbody>\n",
       "    <tr>\n",
       "      <th>0</th>\n",
       "      <td>20872145</td>\n",
       "      <td>2018-09-21</td>\n",
       "      <td>f</td>\n",
       "      <td>NaN</td>\n",
       "      <td>2018</td>\n",
       "      <td>September</td>\n",
       "      <td>21</td>\n",
       "      <td>Friday</td>\n",
       "    </tr>\n",
       "    <tr>\n",
       "      <th>1</th>\n",
       "      <td>20872145</td>\n",
       "      <td>2018-09-19</td>\n",
       "      <td>f</td>\n",
       "      <td>NaN</td>\n",
       "      <td>2018</td>\n",
       "      <td>September</td>\n",
       "      <td>19</td>\n",
       "      <td>Wednesday</td>\n",
       "    </tr>\n",
       "    <tr>\n",
       "      <th>2</th>\n",
       "      <td>20872145</td>\n",
       "      <td>2018-09-18</td>\n",
       "      <td>f</td>\n",
       "      <td>NaN</td>\n",
       "      <td>2018</td>\n",
       "      <td>September</td>\n",
       "      <td>18</td>\n",
       "      <td>Tuesday</td>\n",
       "    </tr>\n",
       "    <tr>\n",
       "      <th>3</th>\n",
       "      <td>20872145</td>\n",
       "      <td>2018-09-17</td>\n",
       "      <td>f</td>\n",
       "      <td>NaN</td>\n",
       "      <td>2018</td>\n",
       "      <td>September</td>\n",
       "      <td>17</td>\n",
       "      <td>Monday</td>\n",
       "    </tr>\n",
       "    <tr>\n",
       "      <th>4</th>\n",
       "      <td>20872145</td>\n",
       "      <td>2018-09-16</td>\n",
       "      <td>f</td>\n",
       "      <td>NaN</td>\n",
       "      <td>2018</td>\n",
       "      <td>September</td>\n",
       "      <td>16</td>\n",
       "      <td>Sunday</td>\n",
       "    </tr>\n",
       "  </tbody>\n",
       "</table>\n",
       "</div>"
      ],
      "text/plain": [
       "   listing_id       date available  price  year      month  day of the month  \\\n",
       "0    20872145 2018-09-21         f    NaN  2018  September                21   \n",
       "1    20872145 2018-09-19         f    NaN  2018  September                19   \n",
       "2    20872145 2018-09-18         f    NaN  2018  September                18   \n",
       "3    20872145 2018-09-17         f    NaN  2018  September                17   \n",
       "4    20872145 2018-09-16         f    NaN  2018  September                16   \n",
       "\n",
       "  day of the week  \n",
       "0          Friday  \n",
       "1       Wednesday  \n",
       "2         Tuesday  \n",
       "3          Monday  \n",
       "4          Sunday  "
      ]
     },
     "execution_count": 6,
     "metadata": {},
     "output_type": "execute_result"
    }
   ],
   "source": [
    "# extract year, month, day from the datetime objects in the 'date' column\n",
    "calendar_train['year'] = calendar_train['date'].map(lambda x: x.year)\n",
    "calendar_train['month'] = calendar_train['date'].map(lambda x: x.month_name())\n",
    "calendar_train['day of the month'] = calendar_train['date'].map(lambda x: x.day)\n",
    "calendar_train['day of the week'] = calendar_train['date'].map(lambda x: x.day_name())\n",
    "\n",
    "\n",
    "calendar_train.head()\n"
   ]
  },
  {
   "cell_type": "code",
   "execution_count": 7,
   "metadata": {},
   "outputs": [
    {
     "name": "stdout",
     "output_type": "stream",
     "text": [
      "Mean price by month:\n",
      "\n",
      " month\n",
      "April        278.442433\n",
      "August       272.628181\n",
      "December     190.547291\n",
      "February     190.617247\n",
      "January      185.940598\n",
      "July         281.397202\n",
      "June         276.534729\n",
      "March        220.600371\n",
      "May          288.174429\n",
      "November     222.407229\n",
      "October      271.807400\n",
      "September    263.820183\n",
      "Name: price, dtype: float64 \n",
      "\n",
      "\n",
      "Mean price by day of the week:\n",
      "\n",
      " day of the week\n",
      "Friday       247.686228\n",
      "Monday       235.088040\n",
      "Saturday     249.484869\n",
      "Sunday       237.755570\n",
      "Thursday     237.950429\n",
      "Tuesday      233.591537\n",
      "Wednesday    230.638254\n",
      "Name: price, dtype: float64\n"
     ]
    }
   ],
   "source": [
    "# calculate average price by month\n",
    "print('Mean price by month:\\n\\n', calendar_train.groupby(['month']).mean()['price'], '\\n\\n')\n",
    "\n",
    "# calculate average price by day of the week\n",
    "print('Mean price by day of the week:\\n\\n', calendar_train.groupby(['day of the week']).mean()['price'])\n"
   ]
  },
  {
   "cell_type": "code",
   "execution_count": 8,
   "metadata": {},
   "outputs": [
    {
     "data": {
      "text/plain": [
       "Text(0.5, 0, 'Day of the week')"
      ]
     },
     "execution_count": 8,
     "metadata": {},
     "output_type": "execute_result"
    },
    {
     "data": {
      "image/png": "[encoded data removed]",
      "text/plain": [
       "<Figure size 720x360 with 1 Axes>"
      ]
     },
     "metadata": {
      "needs_background": "light"
     },
     "output_type": "display_data"
    },
    {
     "data": {
      "image/png": "[encoded data removed]",
      "text/plain": [
       "<Figure size 720x360 with 1 Axes>"
      ]
     },
     "metadata": {
      "needs_background": "light"
     },
     "output_type": "display_data"
    }
   ],
   "source": [
    "# plot average price by month\n",
    "\n",
    "\n",
    "plt.rcParams[\"figure.figsize\"] = [10,5]\n",
    "fig, ax1 = plt.subplots(1,1)\n",
    "# sort data on x axis\n",
    "month_order = [\"January\", \"February\", \"March\", \"April\", \"May\", \"June\", \"July\", \"August\", \"September\", \"October\", \"November\", \"December\"]\n",
    "plt.plot(pd.DataFrame(calendar_train.groupby(['month']).mean()).loc[month_order]['price'], marker = 'o', linewidth = 0)\n",
    "plt.plot(calendar_train.groupby(['month']).mean()['price'], marker = 'o', linewidth = 0)\n",
    "plt.xticks(rotation='vertical')\n",
    "ax1.set_title(\"Average price by month\")\n",
    "ax1.set_ylabel(\"Average price in USD\")\n",
    "ax1.set_xlabel(\"Month\")\n",
    "\n",
    "# plot average price by day of the week\n",
    "\n",
    "fig2, ax2 = plt.subplots(1,1)\n",
    "# sort data on x axis\n",
    "day_order = [\"Monday\", \"Tuesday\", \"Wednesday\", \"Thursday\", \"Friday\", \"Saturday\", \"Sunday\"]\n",
    "plt.plot(pd.DataFrame(calendar_train.groupby(['day of the week']).mean()).loc[day_order]['price'], marker = 'o', linewidth = 0)\n",
    "plt.xticks(rotation='vertical')\n",
    "ax2.set_title(\"Average price by day of the week\")\n",
    "ax2.set_ylabel(\"Average price in USD\")\n",
    "ax2.set_xlabel(\"Day of the week\")\n",
    "\n"
   ]
  },
  {
   "cell_type": "markdown",
   "metadata": {},
   "source": [
    "I notice that the average price by month is generally low in winter months (December, January, and February), rises through the spring (March, April, and May), and remains high during the summer (June, July, and August) although some decline in price is observed from May to June and July to August. In the fall (September, October, and November), the average price transitions from moderately high (approx 265 USD) to lower (approx 220 USD). The overall trend is that as the weather gets warmer, the average price increases and as the weather gets cooler, the average price decreases. This makes sense because during the summer when people more frequently are on vacation, AirBnB rentals would be desirable and therefore prices would rise.\n",
    "\n",
    "From the plot of average price vs. day of the week, we can see that the price is high on Friday and Saturday nights, moderate on Thursday and Sunday nights, and low for Monday through Wednesday nights. This trend indicates that the price for the weekend nights is higher than for weekdays in general. This makes sense because people have time on the weekends away from work to travel and therefore AirBnB rentals would be desirable so prices would rise. "
   ]
  },
  {
   "cell_type": "markdown",
   "metadata": {},
   "source": [
    "### Explore different regression models\n",
    "\n",
    "Fit a regression model that uses the date as a predictor and predicts the price of an Airbnb rental on that date. In this section, you should ignore all other predictors besides the date. Fit the following models on the training set, and compare the $R^2$ of the fitted models on the test set. Include plots of the fitted models for each method.\n",
    "\n",
    "*Hint*: You may want to convert the `date` column into a numerical variable by taking the difference in days between each date and the earliest date in the column.\n",
    "\n",
    "1. Fit simple polynomial models of degree 2, 3, 5, and 8 to the training data. Provide train and test R^2 scores and provide plot(s) of a) the daily averages and b) each model's predictions.\n",
    "\n",
    "2. You should see that the degree 8 polynomial's predictions are awful- either nonsensically near zero [or far too large] at many input values. This isn't just simple overfitting. What is going wrong in this model, and how might it be addressed?\n",
    "\n",
    "3. Fit a Smoothing spline model in `pygam` with the smoothness parameter chosen by cross-validation on the training set. Provide the train and test scores of the best-performing model, and plot its predictions. Also plot the predictions of models with more and less smoothing. When plotting the smooths, show a scatterplot of the daily averages on the same axes, for context.\n",
    "\n",
    "4. Of the models, which performs the best? What is the effect of the tuning parameters (degree and smoothness penalty)?"
   ]
  },
  {
   "cell_type": "code",
   "execution_count": 23,
   "metadata": {},
   "outputs": [],
   "source": [
    "# create numerical date column for train set\n",
    "#calendar_train['numerical_date'] = calendar_train['date'].map(lambda x: (x - calendar_train['date'].min()).days)\n",
    "#calendar_train.head()"
   ]
  },
  {
   "cell_type": "code",
   "execution_count": 56,
   "metadata": {},
   "outputs": [],
   "source": [
    "calendar_train_available = calendar_train[calendar_train['available']=='t']\n",
    "calendar_test_available = calendar_test[calendar_test['available']=='t']"
   ]
  },
  {
   "cell_type": "code",
   "execution_count": 57,
   "metadata": {},
   "outputs": [
    {
     "name": "stderr",
     "output_type": "stream",
     "text": [
      "//anaconda3/envs/cs109b/lib/python3.7/site-packages/ipykernel_launcher.py:1: SettingWithCopyWarning: \n",
      "A value is trying to be set on a copy of a slice from a DataFrame.\n",
      "Try using .loc[row_indexer,col_indexer] = value instead\n",
      "\n",
      "See the caveats in the documentation: http://pandas.pydata.org/pandas-docs/stable/user_guide/indexing.html#returning-a-view-versus-a-copy\n",
      "  \"\"\"Entry point for launching an IPython kernel.\n",
      "//anaconda3/envs/cs109b/lib/python3.7/site-packages/ipykernel_launcher.py:2: SettingWithCopyWarning: \n",
      "A value is trying to be set on a copy of a slice from a DataFrame.\n",
      "Try using .loc[row_indexer,col_indexer] = value instead\n",
      "\n",
      "See the caveats in the documentation: http://pandas.pydata.org/pandas-docs/stable/user_guide/indexing.html#returning-a-view-versus-a-copy\n",
      "  \n"
     ]
    }
   ],
   "source": [
    "calendar_train_available['numerical_date'] = (calendar_train_available['date'] - calendar_train_available['date'].min())\n",
    "calendar_test_available['numerical_date'] = (calendar_test_available['date'] - calendar_test_available['date'].min())"
   ]
  },
  {
   "cell_type": "code",
   "execution_count": 58,
   "metadata": {},
   "outputs": [
    {
     "data": {
      "text/html": [
       "<div>\n",
       "<style scoped>\n",
       "    .dataframe tbody tr th:only-of-type {\n",
       "        vertical-align: middle;\n",
       "    }\n",
       "\n",
       "    .dataframe tbody tr th {\n",
       "        vertical-align: top;\n",
       "    }\n",
       "\n",
       "    .dataframe thead th {\n",
       "        text-align: right;\n",
       "    }\n",
       "</style>\n",
       "<table border=\"1\" class=\"dataframe\">\n",
       "  <thead>\n",
       "    <tr style=\"text-align: right;\">\n",
       "      <th></th>\n",
       "      <th>listing_id</th>\n",
       "      <th>date</th>\n",
       "      <th>available</th>\n",
       "      <th>price</th>\n",
       "      <th>year</th>\n",
       "      <th>month</th>\n",
       "      <th>day of the month</th>\n",
       "      <th>day of the week</th>\n",
       "      <th>numerical_date</th>\n",
       "      <th>numerical_date2</th>\n",
       "    </tr>\n",
       "  </thead>\n",
       "  <tbody>\n",
       "    <tr>\n",
       "      <th>123</th>\n",
       "      <td>20872145</td>\n",
       "      <td>2018-04-02</td>\n",
       "      <td>t</td>\n",
       "      <td>62.0</td>\n",
       "      <td>2018</td>\n",
       "      <td>April</td>\n",
       "      <td>2</td>\n",
       "      <td>Monday</td>\n",
       "      <td>178 days</td>\n",
       "      <td>178</td>\n",
       "    </tr>\n",
       "    <tr>\n",
       "      <th>124</th>\n",
       "      <td>20872145</td>\n",
       "      <td>2018-04-01</td>\n",
       "      <td>t</td>\n",
       "      <td>59.0</td>\n",
       "      <td>2018</td>\n",
       "      <td>April</td>\n",
       "      <td>1</td>\n",
       "      <td>Sunday</td>\n",
       "      <td>177 days</td>\n",
       "      <td>177</td>\n",
       "    </tr>\n",
       "    <tr>\n",
       "      <th>125</th>\n",
       "      <td>20872145</td>\n",
       "      <td>2018-03-31</td>\n",
       "      <td>t</td>\n",
       "      <td>75.0</td>\n",
       "      <td>2018</td>\n",
       "      <td>March</td>\n",
       "      <td>31</td>\n",
       "      <td>Saturday</td>\n",
       "      <td>176 days</td>\n",
       "      <td>176</td>\n",
       "    </tr>\n",
       "    <tr>\n",
       "      <th>126</th>\n",
       "      <td>20872145</td>\n",
       "      <td>2018-03-30</td>\n",
       "      <td>t</td>\n",
       "      <td>71.0</td>\n",
       "      <td>2018</td>\n",
       "      <td>March</td>\n",
       "      <td>30</td>\n",
       "      <td>Friday</td>\n",
       "      <td>175 days</td>\n",
       "      <td>175</td>\n",
       "    </tr>\n",
       "    <tr>\n",
       "      <th>127</th>\n",
       "      <td>20872145</td>\n",
       "      <td>2018-03-28</td>\n",
       "      <td>t</td>\n",
       "      <td>51.0</td>\n",
       "      <td>2018</td>\n",
       "      <td>March</td>\n",
       "      <td>28</td>\n",
       "      <td>Wednesday</td>\n",
       "      <td>173 days</td>\n",
       "      <td>173</td>\n",
       "    </tr>\n",
       "  </tbody>\n",
       "</table>\n",
       "</div>"
      ],
      "text/plain": [
       "     listing_id       date available  price  year  month  day of the month  \\\n",
       "123    20872145 2018-04-02         t   62.0  2018  April                 2   \n",
       "124    20872145 2018-04-01         t   59.0  2018  April                 1   \n",
       "125    20872145 2018-03-31         t   75.0  2018  March                31   \n",
       "126    20872145 2018-03-30         t   71.0  2018  March                30   \n",
       "127    20872145 2018-03-28         t   51.0  2018  March                28   \n",
       "\n",
       "    day of the week numerical_date  numerical_date2  \n",
       "123          Monday       178 days              178  \n",
       "124          Sunday       177 days              177  \n",
       "125        Saturday       176 days              176  \n",
       "126          Friday       175 days              175  \n",
       "127       Wednesday       173 days              173  "
      ]
     },
     "execution_count": 58,
     "metadata": {},
     "output_type": "execute_result"
    }
   ],
   "source": [
    "calendar_train_available.head()"
   ]
  },
  {
   "cell_type": "code",
   "execution_count": 61,
   "metadata": {},
   "outputs": [
    {
     "name": "stderr",
     "output_type": "stream",
     "text": [
      "//anaconda3/envs/cs109b/lib/python3.7/site-packages/ipykernel_launcher.py:1: SettingWithCopyWarning: \n",
      "A value is trying to be set on a copy of a slice from a DataFrame.\n",
      "Try using .loc[row_indexer,col_indexer] = value instead\n",
      "\n",
      "See the caveats in the documentation: http://pandas.pydata.org/pandas-docs/stable/user_guide/indexing.html#returning-a-view-versus-a-copy\n",
      "  \"\"\"Entry point for launching an IPython kernel.\n",
      "//anaconda3/envs/cs109b/lib/python3.7/site-packages/ipykernel_launcher.py:2: SettingWithCopyWarning: \n",
      "A value is trying to be set on a copy of a slice from a DataFrame.\n",
      "Try using .loc[row_indexer,col_indexer] = value instead\n",
      "\n",
      "See the caveats in the documentation: http://pandas.pydata.org/pandas-docs/stable/user_guide/indexing.html#returning-a-view-versus-a-copy\n",
      "  \n"
     ]
    }
   ],
   "source": [
    "calendar_train_available['numerical_date2'] = calendar_train_available['numerical_date'].map(lambda x: x.days)\n",
    "calendar_test_available['numerical_date2'] = calendar_test_available['numerical_date'].map(lambda x: x.days)\n"
   ]
  },
  {
   "cell_type": "code",
   "execution_count": 62,
   "metadata": {},
   "outputs": [
    {
     "data": {
      "text/html": [
       "<div>\n",
       "<style scoped>\n",
       "    .dataframe tbody tr th:only-of-type {\n",
       "        vertical-align: middle;\n",
       "    }\n",
       "\n",
       "    .dataframe tbody tr th {\n",
       "        vertical-align: top;\n",
       "    }\n",
       "\n",
       "    .dataframe thead th {\n",
       "        text-align: right;\n",
       "    }\n",
       "</style>\n",
       "<table border=\"1\" class=\"dataframe\">\n",
       "  <thead>\n",
       "    <tr style=\"text-align: right;\">\n",
       "      <th></th>\n",
       "      <th>listing_id</th>\n",
       "      <th>date</th>\n",
       "      <th>available</th>\n",
       "      <th>price</th>\n",
       "      <th>numerical_date</th>\n",
       "      <th>numerical_date2</th>\n",
       "    </tr>\n",
       "  </thead>\n",
       "  <tbody>\n",
       "    <tr>\n",
       "      <th>0</th>\n",
       "      <td>21205442</td>\n",
       "      <td>2018-09-28</td>\n",
       "      <td>t</td>\n",
       "      <td>138.0</td>\n",
       "      <td>357 days</td>\n",
       "      <td>357</td>\n",
       "    </tr>\n",
       "    <tr>\n",
       "      <th>1</th>\n",
       "      <td>5166870</td>\n",
       "      <td>2018-08-11</td>\n",
       "      <td>t</td>\n",
       "      <td>210.0</td>\n",
       "      <td>309 days</td>\n",
       "      <td>309</td>\n",
       "    </tr>\n",
       "    <tr>\n",
       "      <th>12</th>\n",
       "      <td>19455818</td>\n",
       "      <td>2018-04-13</td>\n",
       "      <td>t</td>\n",
       "      <td>869.0</td>\n",
       "      <td>189 days</td>\n",
       "      <td>189</td>\n",
       "    </tr>\n",
       "    <tr>\n",
       "      <th>14</th>\n",
       "      <td>20351854</td>\n",
       "      <td>2017-12-23</td>\n",
       "      <td>t</td>\n",
       "      <td>239.0</td>\n",
       "      <td>78 days</td>\n",
       "      <td>78</td>\n",
       "    </tr>\n",
       "    <tr>\n",
       "      <th>17</th>\n",
       "      <td>20622324</td>\n",
       "      <td>2018-02-09</td>\n",
       "      <td>t</td>\n",
       "      <td>259.0</td>\n",
       "      <td>126 days</td>\n",
       "      <td>126</td>\n",
       "    </tr>\n",
       "  </tbody>\n",
       "</table>\n",
       "</div>"
      ],
      "text/plain": [
       "    listing_id       date available  price numerical_date  numerical_date2\n",
       "0     21205442 2018-09-28         t  138.0       357 days              357\n",
       "1      5166870 2018-08-11         t  210.0       309 days              309\n",
       "12    19455818 2018-04-13         t  869.0       189 days              189\n",
       "14    20351854 2017-12-23         t  239.0        78 days               78\n",
       "17    20622324 2018-02-09         t  259.0       126 days              126"
      ]
     },
     "execution_count": 62,
     "metadata": {},
     "output_type": "execute_result"
    }
   ],
   "source": [
    "calendar_test_available.head()"
   ]
  },
  {
   "cell_type": "code",
   "execution_count": 24,
   "metadata": {},
   "outputs": [],
   "source": [
    "#calendar_train_numerical_date = [x - calendar_train['date'].min() for x in calendar_train['date']]"
   ]
  },
  {
   "cell_type": "code",
   "execution_count": 63,
   "metadata": {},
   "outputs": [],
   "source": [
    "#calendar_test['numerical_date'] = (calendar_test['date'] - calendar_test['date'].min())\n",
    "#calendar_test['numerical_date2'] = calendar_test['numerical_date'].map(lambda x: x.days)\n"
   ]
  },
  {
   "cell_type": "code",
   "execution_count": 64,
   "metadata": {},
   "outputs": [],
   "source": [
    "#calendar_test.head()"
   ]
  },
  {
   "cell_type": "code",
   "execution_count": 26,
   "metadata": {},
   "outputs": [],
   "source": [
    "# create numerical date column for test set\n",
    "#calendar_test['numerical_date'] = calendar_test['date'].map(lambda x: (x - calendar_test['date'].min()).days)\n",
    "#calendar_test.head()"
   ]
  },
  {
   "cell_type": "code",
   "execution_count": 27,
   "metadata": {},
   "outputs": [],
   "source": [
    "#calendar_train.iloc[-1]['date']"
   ]
  },
  {
   "cell_type": "code",
   "execution_count": 28,
   "metadata": {},
   "outputs": [],
   "source": [
    "#calendar_train['date'].min()"
   ]
  },
  {
   "cell_type": "code",
   "execution_count": 29,
   "metadata": {},
   "outputs": [],
   "source": [
    "# combine this with cell above if rerun code\n",
    "#calendar_train['numerical_date'] = calendar_train['numerical date']"
   ]
  },
  {
   "cell_type": "code",
   "execution_count": 68,
   "metadata": {},
   "outputs": [
    {
     "data": {
      "text/plain": [
       "count    309288.000000\n",
       "mean        174.542853\n",
       "std         100.967719\n",
       "min           0.000000\n",
       "25%          88.000000\n",
       "50%         163.000000\n",
       "75%         261.000000\n",
       "max         364.000000\n",
       "Name: numerical_date2, dtype: float64"
      ]
     },
     "execution_count": 68,
     "metadata": {},
     "output_type": "execute_result"
    }
   ],
   "source": [
    "# check that there is no negative numerical_date values, since this column is number of days elapsed since earliest date\n",
    "calendar_train_available['numerical_date2'].describe()"
   ]
  },
  {
   "cell_type": "code",
   "execution_count": 73,
   "metadata": {},
   "outputs": [],
   "source": [
    "calendar_train_available_daygroups = calendar_train_available.groupby(['numerical_date2']).mean()\n",
    "calendar_test_available_daygroups = calendar_test_available.groupby(['numerical_date2']).mean()"
   ]
  },
  {
   "cell_type": "code",
   "execution_count": 76,
   "metadata": {},
   "outputs": [],
   "source": [
    "calendar_train_available_daygroups['numerical_date3'] = calendar_train_available_daygroups.index\n",
    "calendar_test_available_daygroups['numerical_date3'] = calendar_test_available_daygroups.index\n",
    "\n"
   ]
  },
  {
   "cell_type": "code",
   "execution_count": 78,
   "metadata": {},
   "outputs": [
    {
     "data": {
      "text/html": [
       "<div>\n",
       "<style scoped>\n",
       "    .dataframe tbody tr th:only-of-type {\n",
       "        vertical-align: middle;\n",
       "    }\n",
       "\n",
       "    .dataframe tbody tr th {\n",
       "        vertical-align: top;\n",
       "    }\n",
       "\n",
       "    .dataframe thead th {\n",
       "        text-align: right;\n",
       "    }\n",
       "</style>\n",
       "<table border=\"1\" class=\"dataframe\">\n",
       "  <thead>\n",
       "    <tr style=\"text-align: right;\">\n",
       "      <th></th>\n",
       "      <th>listing_id</th>\n",
       "      <th>price</th>\n",
       "      <th>numerical_date3</th>\n",
       "    </tr>\n",
       "  </thead>\n",
       "  <tbody>\n",
       "    <tr>\n",
       "      <th>count</th>\n",
       "      <td>3.650000e+02</td>\n",
       "      <td>365.000000</td>\n",
       "      <td>365.000000</td>\n",
       "    </tr>\n",
       "    <tr>\n",
       "      <th>mean</th>\n",
       "      <td>1.177914e+07</td>\n",
       "      <td>248.559409</td>\n",
       "      <td>182.000000</td>\n",
       "    </tr>\n",
       "    <tr>\n",
       "      <th>std</th>\n",
       "      <td>6.928825e+05</td>\n",
       "      <td>47.734767</td>\n",
       "      <td>105.510663</td>\n",
       "    </tr>\n",
       "    <tr>\n",
       "      <th>min</th>\n",
       "      <td>9.939177e+06</td>\n",
       "      <td>171.677019</td>\n",
       "      <td>0.000000</td>\n",
       "    </tr>\n",
       "    <tr>\n",
       "      <th>25%</th>\n",
       "      <td>1.119463e+07</td>\n",
       "      <td>204.549884</td>\n",
       "      <td>91.000000</td>\n",
       "    </tr>\n",
       "    <tr>\n",
       "      <th>50%</th>\n",
       "      <td>1.174478e+07</td>\n",
       "      <td>257.693291</td>\n",
       "      <td>182.000000</td>\n",
       "    </tr>\n",
       "    <tr>\n",
       "      <th>75%</th>\n",
       "      <td>1.234789e+07</td>\n",
       "      <td>278.387879</td>\n",
       "      <td>273.000000</td>\n",
       "    </tr>\n",
       "    <tr>\n",
       "      <th>max</th>\n",
       "      <td>1.350641e+07</td>\n",
       "      <td>470.674107</td>\n",
       "      <td>364.000000</td>\n",
       "    </tr>\n",
       "  </tbody>\n",
       "</table>\n",
       "</div>"
      ],
      "text/plain": [
       "         listing_id       price  numerical_date3\n",
       "count  3.650000e+02  365.000000       365.000000\n",
       "mean   1.177914e+07  248.559409       182.000000\n",
       "std    6.928825e+05   47.734767       105.510663\n",
       "min    9.939177e+06  171.677019         0.000000\n",
       "25%    1.119463e+07  204.549884        91.000000\n",
       "50%    1.174478e+07  257.693291       182.000000\n",
       "75%    1.234789e+07  278.387879       273.000000\n",
       "max    1.350641e+07  470.674107       364.000000"
      ]
     },
     "execution_count": 78,
     "metadata": {},
     "output_type": "execute_result"
    }
   ],
   "source": [
    "calendar_test_available_daygroups.describe()"
   ]
  },
  {
   "cell_type": "code",
   "execution_count": 69,
   "metadata": {},
   "outputs": [
    {
     "data": {
      "text/plain": [
       "count    133100.000000\n",
       "mean        174.506086\n",
       "std         100.771816\n",
       "min           0.000000\n",
       "25%          87.000000\n",
       "50%         163.000000\n",
       "75%         261.000000\n",
       "max         364.000000\n",
       "Name: numerical_date2, dtype: float64"
      ]
     },
     "execution_count": 69,
     "metadata": {},
     "output_type": "execute_result"
    }
   ],
   "source": [
    "calendar_test_available['numerical_date2'].describe()"
   ]
  },
  {
   "cell_type": "code",
   "execution_count": 93,
   "metadata": {},
   "outputs": [
    {
     "name": "stdout",
     "output_type": "stream",
     "text": [
      "degree 2 polynomial r2 score in the training data: 0.19584841843111234\n",
      "degree 2 polynomial r2 score in the testing data: 0.20031669853628298\n"
     ]
    },
    {
     "data": {
      "image/png": "[encoded data removed]",
      "text/plain": [
       "<Figure size 720x360 with 1 Axes>"
      ]
     },
     "metadata": {
      "needs_background": "light"
     },
     "output_type": "display_data"
    }
   ],
   "source": [
    "# degree 2 polynomial\n",
    "#plt.rcParams[\"figure.figsize\"] = [10,5]\n",
    "#fig, ax2 = plt.subplots(1,1)\n",
    "\n",
    "fit2_lm = sm.ols(formula=\"price ~ numerical_date3 + np.power(numerical_date3, 2)\", data=calendar_train_available_daygroups).fit()\n",
    "#fit2_lm1 = sm.ols(formula=\"price ~ np.vander(numerical_date2, 3, increasing=True) -1\", data=calendar_train).fit()\n",
    "poly_predictions = fit2_lm.get_prediction(pd.DataFrame(calendar_train_available_daygroups['numerical_date3'])).summary_frame()\n",
    "\n",
    "ax2 = calendar_train_available_daygroups.plot.scatter(x='numerical_date3',y='price',c='Red',title=\"AirBnB price with least-squares degree 2 fit\")\n",
    "ax2.set_xlabel(\"Number of days elapsed since the earliest date\")\n",
    "ax2.set_ylabel(\"Price in USD\")\n",
    "\n",
    "ax2.plot(pd.DataFrame(calendar_train_available_daygroups['numerical_date3']), poly_predictions['mean'],color=\"green\")\n",
    "ax2.plot(pd.DataFrame(calendar_train_available_daygroups['numerical_date3']), poly_predictions['mean_ci_lower'], color=\"blue\",linestyle=\"dashed\")\n",
    "ax2.plot(pd.DataFrame(calendar_train_available_daygroups['numerical_date3']), poly_predictions['mean_ci_upper'], color=\"blue\",linestyle=\"dashed\");\n",
    "\n",
    "print('degree 2 polynomial r2 score in the training data:', r2_score(calendar_train_available_daygroups['price'], poly_predictions['mean']))\n",
    "print('degree 2 polynomial r2 score in the testing data:', r2_score(calendar_test_available_daygroups['price'], poly_predictions['mean']))\n",
    "\n",
    "\n"
   ]
  },
  {
   "cell_type": "code",
   "execution_count": 92,
   "metadata": {},
   "outputs": [
    {
     "name": "stdout",
     "output_type": "stream",
     "text": [
      "degree 3 polynomial r2 score in the training data: 0.6380031312876848\n",
      "degree 3 polynomial r2 score in the testing data: 0.6139438232999757\n"
     ]
    },
    {
     "data": {
      "image/png": "[encoded data removed]",
      "text/plain": [
       "<Figure size 720x360 with 1 Axes>"
      ]
     },
     "metadata": {
      "needs_background": "light"
     },
     "output_type": "display_data"
    }
   ],
   "source": [
    "# degree 3 polynomial\n",
    "#plt.rcParams[\"figure.figsize\"] = [10,5]\n",
    "#fig, ax2 = plt.subplots(1,1)\n",
    "\n",
    "fit3_lm = sm.ols(formula=\"price ~ numerical_date3 + np.power(numerical_date3, 2) + np.power(numerical_date3, 3)\", data=calendar_train_available_daygroups).fit()\n",
    "#fit2_lm1 = sm.ols(formula=\"price ~ np.vander(numerical_date2, 3, increasing=True) -1\", data=calendar_train).fit()\n",
    "poly_predictions = fit3_lm.get_prediction(pd.DataFrame(calendar_train_available_daygroups['numerical_date3'])).summary_frame()\n",
    "\n",
    "ax2 = calendar_train_available_daygroups.plot.scatter(x='numerical_date3',y='price',c='Red',title=\"AirBnB price with least-squares degree 3 fit\")\n",
    "ax2.set_xlabel(\"Number of days elapsed since the earliest date\")\n",
    "ax2.set_ylabel(\"Price in USD\")\n",
    "\n",
    "ax2.plot(pd.DataFrame(calendar_train_available_daygroups['numerical_date3']), poly_predictions['mean'],color=\"green\")\n",
    "ax2.plot(pd.DataFrame(calendar_train_available_daygroups['numerical_date3']), poly_predictions['mean_ci_lower'], color=\"blue\",linestyle=\"dashed\")\n",
    "ax2.plot(pd.DataFrame(calendar_train_available_daygroups['numerical_date3']), poly_predictions['mean_ci_upper'], color=\"blue\",linestyle=\"dashed\");\n",
    "\n",
    "print('degree 3 polynomial r2 score in the training data:', r2_score(calendar_train_available_daygroups['price'], poly_predictions['mean']))\n",
    "print('degree 3 polynomial r2 score in the testing data:', r2_score(calendar_test_available_daygroups['price'], poly_predictions['mean']))\n",
    "\n",
    "\n"
   ]
  },
  {
   "cell_type": "code",
   "execution_count": 91,
   "metadata": {},
   "outputs": [
    {
     "name": "stdout",
     "output_type": "stream",
     "text": [
      "degree 5 polynomial r2 score in the training data: 0.7168986371398361\n",
      "degree 5 polynomial r2 score in the testing data: 0.6850165200653858\n"
     ]
    },
    {
     "data": {
      "image/png": "[encoded data removed]",
      "text/plain": [
       "<Figure size 720x360 with 1 Axes>"
      ]
     },
     "metadata": {
      "needs_background": "light"
     },
     "output_type": "display_data"
    }
   ],
   "source": [
    "# degree 5 polynomial\n",
    "#plt.rcParams[\"figure.figsize\"] = [10,5]\n",
    "#fig, ax2 = plt.subplots(1,1)\n",
    "\n",
    "fit5_lm = sm.ols(formula=\"price ~ numerical_date3 + np.power(numerical_date3, 2) + np.power(numerical_date3, 3) + np.power(numerical_date3, 4) + np.power(numerical_date3, 5)\", data=calendar_train_available_daygroups).fit()\n",
    "#fit2_lm1 = sm.ols(formula=\"price ~ np.vander(numerical_date2, 3, increasing=True) -1\", data=calendar_train).fit()\n",
    "poly_predictions = fit5_lm.get_prediction(pd.DataFrame(calendar_train_available_daygroups['numerical_date3'])).summary_frame()\n",
    "\n",
    "ax2 = calendar_train_available_daygroups.plot.scatter(x='numerical_date3',y='price',c='Red',title=\"AirBnB price with least-squares degree 5 fit\")\n",
    "ax2.set_xlabel(\"Number of days elapsed since the earliest date\")\n",
    "ax2.set_ylabel(\"Price in USD\")\n",
    "\n",
    "ax2.plot(pd.DataFrame(calendar_train_available_daygroups['numerical_date3']), poly_predictions['mean'],color=\"green\")\n",
    "ax2.plot(pd.DataFrame(calendar_train_available_daygroups['numerical_date3']), poly_predictions['mean_ci_lower'], color=\"blue\",linestyle=\"dashed\")\n",
    "ax2.plot(pd.DataFrame(calendar_train_available_daygroups['numerical_date3']), poly_predictions['mean_ci_upper'], color=\"blue\",linestyle=\"dashed\");\n",
    "\n",
    "print('degree 5 polynomial r2 score in the training data:', r2_score(calendar_train_available_daygroups['price'], poly_predictions['mean']))\n",
    "print('degree 5 polynomial r2 score in the testing data:', r2_score(calendar_test_available_daygroups['price'], poly_predictions['mean']))\n",
    "\n"
   ]
  },
  {
   "cell_type": "code",
   "execution_count": 90,
   "metadata": {},
   "outputs": [
    {
     "name": "stdout",
     "output_type": "stream",
     "text": [
      "degree 8 polynomial r2 score in the training data: -3.973536531326528\n",
      "degree 8 polynomial r2 score in the testing data: -3.6775242312221215\n"
     ]
    },
    {
     "data": {
      "image/png": "[encoded data removed]",
      "text/plain": [
       "<Figure size 720x360 with 1 Axes>"
      ]
     },
     "metadata": {
      "needs_background": "light"
     },
     "output_type": "display_data"
    }
   ],
   "source": [
    "# degree 8 polynomial\n",
    "#plt.rcParams[\"figure.figsize\"] = [10,5]\n",
    "#fig, ax2 = plt.subplots(1,1)\n",
    "\n",
    "fit8_lm = sm.ols(formula=\"price ~ numerical_date3 + np.power(numerical_date3, 2) + np.power(numerical_date3, 3) + np.power(numerical_date3, 4) + np.power(numerical_date3, 5) + np.power(numerical_date3, 6) + np.power(numerical_date3, 7) + np.power(numerical_date3, 8)\", data=calendar_train_available_daygroups).fit()\n",
    "#fit2_lm1 = sm.ols(formula=\"price ~ np.vander(numerical_date2, 3, increasing=True) -1\", data=calendar_train).fit()\n",
    "poly_predictions = fit8_lm.get_prediction(pd.DataFrame(calendar_train_available_daygroups['numerical_date3'])).summary_frame()\n",
    "\n",
    "ax2 = calendar_train_available_daygroups.plot.scatter(x='numerical_date3',y='price',c='Red',title=\"AirBnB price with least-squares degree 8 fit\")\n",
    "ax2.set_xlabel(\"Number of days elapsed since the earliest date\")\n",
    "ax2.set_ylabel(\"Price in USD\")\n",
    "\n",
    "ax2.plot(pd.DataFrame(calendar_train_available_daygroups['numerical_date3']), poly_predictions['mean'],color=\"green\")\n",
    "ax2.plot(pd.DataFrame(calendar_train_available_daygroups['numerical_date3']), poly_predictions['mean_ci_lower'], color=\"blue\",linestyle=\"dashed\")\n",
    "ax2.plot(pd.DataFrame(calendar_train_available_daygroups['numerical_date3']), poly_predictions['mean_ci_upper'], color=\"blue\",linestyle=\"dashed\");\n",
    "\n",
    "print('degree 8 polynomial r2 score in the training data:', r2_score(calendar_train_available_daygroups['price'], poly_predictions['mean']))\n",
    "print('degree 8 polynomial r2 score in the testing data:', r2_score(calendar_test_available_daygroups['price'], poly_predictions['mean']))\n",
    "\n"
   ]
  },
  {
   "cell_type": "code",
   "execution_count": 98,
   "metadata": {},
   "outputs": [
    {
     "data": {
      "text/plain": [
       "numerical_date2\n",
       "0        0\n",
       "1        1\n",
       "2        2\n",
       "3        3\n",
       "4        4\n",
       "      ... \n",
       "360    360\n",
       "361    361\n",
       "362    362\n",
       "363    363\n",
       "364    364\n",
       "Name: numerical_date3, Length: 365, dtype: int64"
      ]
     },
     "execution_count": 98,
     "metadata": {},
     "output_type": "execute_result"
    }
   ],
   "source": [
    "calendar_train_available_daygroups.iloc[:,4]"
   ]
  },
  {
   "cell_type": "code",
   "execution_count": 74,
   "metadata": {},
   "outputs": [
    {
     "ename": "KeyboardInterrupt",
     "evalue": "",
     "output_type": "error",
     "traceback": [
      "\u001b[0;31m---------------------------------------------------------------------------\u001b[0m",
      "\u001b[0;31mKeyboardInterrupt\u001b[0m                         Traceback (most recent call last)",
      "\u001b[0;32m<ipython-input-74-ddf4d6ca8099>\u001b[0m in \u001b[0;36m<module>\u001b[0;34m\u001b[0m\n\u001b[1;32m      1\u001b[0m \u001b[0mcalendar_train_numerical_date\u001b[0m \u001b[0;34m=\u001b[0m \u001b[0;34m[\u001b[0m\u001b[0;34m]\u001b[0m\u001b[0;34m\u001b[0m\u001b[0;34m\u001b[0m\u001b[0m\n\u001b[1;32m      2\u001b[0m \u001b[0;32mfor\u001b[0m \u001b[0mi\u001b[0m \u001b[0;32min\u001b[0m \u001b[0mrange\u001b[0m\u001b[0;34m(\u001b[0m\u001b[0mlen\u001b[0m\u001b[0;34m(\u001b[0m\u001b[0mcalendar_train\u001b[0m\u001b[0;34m)\u001b[0m\u001b[0;34m)\u001b[0m\u001b[0;34m:\u001b[0m\u001b[0;34m\u001b[0m\u001b[0;34m\u001b[0m\u001b[0m\n\u001b[0;32m----> 3\u001b[0;31m     \u001b[0mcalendar_train_numerical_date\u001b[0m\u001b[0;34m.\u001b[0m\u001b[0mappend\u001b[0m\u001b[0;34m(\u001b[0m\u001b[0;34m(\u001b[0m\u001b[0mcalendar_train\u001b[0m\u001b[0;34m.\u001b[0m\u001b[0miloc\u001b[0m\u001b[0;34m[\u001b[0m\u001b[0mi\u001b[0m\u001b[0;34m]\u001b[0m\u001b[0;34m[\u001b[0m\u001b[0;34m'date'\u001b[0m\u001b[0;34m]\u001b[0m\u001b[0;34m-\u001b[0m\u001b[0mcalendar_train\u001b[0m\u001b[0;34m.\u001b[0m\u001b[0miloc\u001b[0m\u001b[0;34m[\u001b[0m\u001b[0;34m-\u001b[0m\u001b[0;36m1\u001b[0m\u001b[0;34m]\u001b[0m\u001b[0;34m[\u001b[0m\u001b[0;34m'date'\u001b[0m\u001b[0;34m]\u001b[0m\u001b[0;34m)\u001b[0m\u001b[0;34m.\u001b[0m\u001b[0mdays\u001b[0m\u001b[0;34m)\u001b[0m\u001b[0;34m\u001b[0m\u001b[0;34m\u001b[0m\u001b[0m\n\u001b[0m",
      "\u001b[0;31mKeyboardInterrupt\u001b[0m: "
     ]
    }
   ],
   "source": [
    "# thought it might be faster than lambda but it's not fast either\n",
    "#calendar_train_numerical_date = []\n",
    "#for i in range(len(calendar_train)):\n",
    "#    calendar_train_numerical_date.append((calendar_train.iloc[i]['date']-calendar_train.iloc[-1]['date']).days)"
   ]
  },
  {
   "cell_type": "markdown",
   "metadata": {},
   "source": [
    "### 1. Polynomials"
   ]
  },
  {
   "cell_type": "code",
   "execution_count": 9,
   "metadata": {},
   "outputs": [],
   "source": [
    "#your code here\n"
   ]
  },
  {
   "cell_type": "markdown",
   "metadata": {},
   "source": [
    "_your answer here_\n",
    "\n",
    "\n",
    "compare r2 in test sets here??"
   ]
  },
  {
   "cell_type": "markdown",
   "metadata": {},
   "source": [
    "### 2. Degree 8 oddity\n",
    "_your answer here_\n",
    "\n",
    "\n",
    "negative and outside of 1 means model is way worse than data\n",
    "\n",
    "Runge's phenomenon/ oscillation at limits.  \n",
    "most unusual results are at the edges because few data points \n",
    "why we would want to use natural spline. enforces at the edges that its linear or flat\n",
    "\n",
    "not just overfitting with high degree polynomial"
   ]
  },
  {
   "cell_type": "markdown",
   "metadata": {},
   "source": [
    "### 3. Smoothing spline model with the smoothness parameter chosen by cross-validation on the training set."
   ]
  },
  {
   "cell_type": "code",
   "execution_count": 2,
   "metadata": {},
   "outputs": [],
   "source": [
    "#your code here\n",
    "# degree 5 polynomial\n",
    "\n",
    "candidate_smoothings = [0, 5, 10, 20, 200]\n",
    "\n",
    "kf = KFold(n_splits=5, random_state=47, shuffle=True)\n",
    "scores = np.zeros((5,len(candidate_smoothings)))\n",
    "\n",
    "for i, (train_index, test_index) in enumerate(kf.split(calendar_train_available_daygroups)):\n",
    "    train_df = calendar_train_available_daygroups.iloc[train_index,:]\n",
    "    test_df = calendar_train_available_daygroups.iloc[test_index,:]\n",
    "    for j,cur_smoothing in enumerate(candidate_smoothings):\n",
    "        cur_model = LinearGAM(s(4)).fit(X, y)\n",
    "        \n",
    "        scores[i,j] = r2_score(test_df['price'], cur_model(test_df['noisy_age']))\n",
    "        \n",
    "np.mean(scores, axis=0)\n",
    "\n",
    "best_s = candidate_smoothings[np.argmax(np.mean(scores, axis=0))]\n",
    "\n",
    "ax = diab.plot.scatter(x='age',y='y',c='Red',title=\"smoothing spline with s={}, chosen by cross-validation\".format(best_s))\n",
    "best_model = UnivariateSpline(sorted_noisy_diab['noisy_age'],sorted_noisy_diab['y'], s=best_s)\n",
    "ax.plot(xpred, best_model(xpred), color=\"darkgreen\")\n",
    "plt.show()"
   ]
  },
  {
   "cell_type": "markdown",
   "metadata": {},
   "source": [
    "### 4. Effects of parameters\n",
    "_your answer here_"
   ]
  },
  {
   "cell_type": "markdown",
   "metadata": {},
   "source": [
    "### Part 1b: Adapting to weekends\n",
    "\n",
    "It is possible/likely that prices on weekends (Friday nights and Saturday nights) are systematically higher than prices on weekdays, and that including this aspect of the data-generating process in our model will produce a better fit.\n",
    "\n",
    "5. Create a binary indicator of weekend versus non-weekend, and include it in your best-performing model from above. How does it impact the model's performance?  \n",
    "*Hint*: include a categorical variable in a GAM by importing and using `pygam.f` in the same way you've used `pygam.s` for continuous variables.\n"
   ]
  },
  {
   "cell_type": "code",
   "execution_count": 16,
   "metadata": {},
   "outputs": [],
   "source": [
    "#your code here\n"
   ]
  },
  {
   "cell_type": "markdown",
   "metadata": {},
   "source": [
    "### Part 1c: Going the Distance\n",
    "\n",
    "You may have noticed from your scatterplots of average price versus day on the training set that there are a few days with abnormally high average prices.\n",
    "\n",
    "Sort the training data in decreasing order of average price, extracting the 10 most expensive dates. Why are the prices on these days so high? Is it something about the days themselves, noise, an artifact of data collection, or something else?"
   ]
  },
  {
   "cell_type": "code",
   "execution_count": 3,
   "metadata": {},
   "outputs": [],
   "source": [
    "#your code here\n"
   ]
  },
  {
   "cell_type": "markdown",
   "metadata": {},
   "source": [
    "_your answer here_"
   ]
  },
  {
   "cell_type": "markdown",
   "metadata": {},
   "source": [
    "### Problem 2: Predicting Airbnb Rental Price Through Listing Features\n",
    "\n",
    "In this problem, we'll continue our exploration of Airbnb data by predicting price based on listing features. The data can be found in `listings_train.csv` and `listings_test.csv`.\n",
    "\n",
    "First, visualize the relationship between each of the predictors and the response variable. Does it appear that some of the predictors have a nonlinear relationship with the response variable?"
   ]
  },
  {
   "cell_type": "code",
   "execution_count": 21,
   "metadata": {},
   "outputs": [],
   "source": [
    "#your code here"
   ]
  },
  {
   "cell_type": "markdown",
   "metadata": {},
   "source": [
    "_your answer here_"
   ]
  },
  {
   "cell_type": "markdown",
   "metadata": {},
   "source": [
    "### Part 2a: Polynomial Regression\n",
    "\n",
    "Fit the following models on the training set and compare the $R^2$ score of the fitted models on the test set:\n",
    "    \n",
    "* Linear regression\n",
    "* Regression with polynomial basis functions of degree 3 (i.e., basis functions $x$, $x^2$, $x^3$ for each predictor $x$) for quantitative predictors."
   ]
  },
  {
   "cell_type": "code",
   "execution_count": 26,
   "metadata": {},
   "outputs": [],
   "source": [
    "#your code here"
   ]
  },
  {
   "cell_type": "markdown",
   "metadata": {},
   "source": [
    "### Part 2b: Generalized Additive Model (GAM)\n",
    "\n",
    "1. Do you see any advantage in fitting an additive regression model to these data, compared to the above models?\n",
    "\n",
    "1. Fit a GAM to the training set, and compare the test $R^2$ of the fitted model to the above models. You may use a smoothing spline basis function on each predictor, with the same smoothing parameter for each basis function, tuned using cross-validation on the training set.\n",
    "\n",
    "2. Plot and examine the smooth of each predictor for the fitted GAM. What are some useful insights conveyed by these plots?\n"
   ]
  },
  {
   "cell_type": "markdown",
   "metadata": {},
   "source": [
    "_your answer here_\n"
   ]
  },
  {
   "cell_type": "code",
   "execution_count": 31,
   "metadata": {},
   "outputs": [
    {
     "name": "stdout",
     "output_type": "stream",
     "text": [
      "f(0) + s(1) + s(2) + s(3) + s(4) + s(5) + s(6) + s(7) + s(8) + s(9) + s(10)\n"
     ]
    }
   ],
   "source": [
    "from pygam import LinearGAM, s, f\n",
    "from sklearn.preprocessing import LabelEncoder\n",
    "#your code here"
   ]
  },
  {
   "cell_type": "code",
   "execution_count": 4,
   "metadata": {},
   "outputs": [],
   "source": [
    "#your code here"
   ]
  },
  {
   "cell_type": "markdown",
   "metadata": {},
   "source": [
    "### Part 2c: Putting it All Together\n",
    "Using the GAM outputs and insights from part 1), discuss the most important variables in the driving prices, and give advide to a frugal traveller hoping to visit Boston."
   ]
  },
  {
   "cell_type": "markdown",
   "metadata": {},
   "source": [
    "_your answer here_"
   ]
  },
  {
   "cell_type": "code",
   "execution_count": null,
   "metadata": {},
   "outputs": [],
   "source": []
  }
 ],
 "metadata": {
  "kernelspec": {
   "display_name": "Python 3",
   "language": "python",
   "name": "python3"
  },
  "language_info": {
   "codemirror_mode": {
    "name": "ipython",
    "version": 3
   },
   "file_extension": ".py",
   "mimetype": "text/x-python",
   "name": "python",
   "nbconvert_exporter": "python",
   "pygments_lexer": "ipython3",
   "version": "3.7.6"
  }
 },
 "nbformat": 4,
 "nbformat_minor": 4
}
